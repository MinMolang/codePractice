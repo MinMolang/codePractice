{
  "nbformat": 4,
  "nbformat_minor": 0,
  "metadata": {
    "colab": {
      "name": "박민지 - 4주차 - Python.ipynb",
      "provenance": [],
      "collapsed_sections": [],
      "include_colab_link": true
    },
    "kernelspec": {
      "name": "python3",
      "display_name": "Python 3"
    }
  },
  "cells": [
    {
      "cell_type": "markdown",
      "metadata": {
        "id": "view-in-github",
        "colab_type": "text"
      },
      "source": [
        "<a href=\"https://colab.research.google.com/github/MinMolang/codePractice/blob/master/%EB%B0%95%EB%AF%BC%EC%A7%80_4%EC%A3%BC%EC%B0%A8_Python.ipynb\" target=\"_parent\"><img src=\"https://colab.research.google.com/assets/colab-badge.svg\" alt=\"Open In Colab\"/></a>"
      ]
    },
    {
      "cell_type": "markdown",
      "metadata": {
        "id": "MtJfD1Itvl9S"
      },
      "source": [
        "## 4주차 - Python 과제\n",
        "\n",
        "코드 실행시 SyntaxError 가 발생하면 0점으로 배점합니다. 문제 요구사항을 모두 구현하지 못하셔도 작동되는 코드를 작성해주시기 바랍니다."
      ]
    },
    {
      "cell_type": "markdown",
      "metadata": {
        "id": "sDT1SZ2QxB5N"
      },
      "source": [
        "### 1. 클래스 생성하기\n",
        "(10 점)\n",
        "\n",
        "#### 참고사항\n",
        "아래에 설명 드리는 내용중 **한글단어(eng)** 처럼 작성된 내용중에 영문 표기는 **클래스명** **함수명** 또는 **변수명** 으로 사용하시면 됩니다. \n",
        "\n",
        "#### 클래스 작성 방법\n",
        "\n",
        "계산기에서 더하기(add), 빼기(sub), 곱하기(mul), 나누기(div) 기능을 가진 계산기 클래스 (Calculator) 를 만들려고 합니다.\n",
        "사용자로부터 첫번째 숫자(num1), 두번째 숫자(num2) 로 특정한 이름 (여기에서는 first 를 사용) 객체를 만들면 위 4가지 기능(더하기, 빼기, 곱하기, 나누기) 를 사용할 수 있게 작성해주시면 됩니다."
      ]
    },
    {
      "cell_type": "markdown",
      "metadata": {
        "id": "2qgbMBOrekoO"
      },
      "source": [
        "## O"
      ]
    },
    {
      "cell_type": "code",
      "metadata": {
        "id": "jxeMH1NCwR1Z"
      },
      "source": [
        "# 여기에 Class 를 작성해주세요.\n",
        "class Calculator:\n",
        "  \"\"\"\n",
        "  calculate two numbers (add, sub, mul, div) Class\n",
        "  \"\"\"\n",
        "  def __init__(self, num1, num2):\n",
        "    self.num1 = num1\n",
        "    self.num2 = num2\n",
        "\n",
        "  def add(self):\n",
        "    return self.num1 + self.num2\n",
        "  \n",
        "  def sub(self):\n",
        "    return self.num1 - self.num2\n",
        "  \n",
        "  def mul(self):\n",
        "    return self.num1 * self.num2\n",
        "  \n",
        "  def div(self):\n",
        "    return self.num1 / self.num2\n",
        "  \n",
        "\n",
        "\n",
        "\n",
        "  \n",
        "\n"
      ],
      "execution_count": null,
      "outputs": []
    },
    {
      "cell_type": "code",
      "metadata": {
        "id": "f16-xbcRy4jH",
        "colab": {
          "base_uri": "https://localhost:8080/",
          "height": 35
        },
        "outputId": "83d55bf5-235d-407a-de4c-6eabbfc4e2c3"
      },
      "source": [
        "# 실행 결과 예 - div() 대신 다른 기능도 사용해보세요.\n",
        "first = Calculator(100, 200)\n",
        "first.div(), first.add(), first.sub(), first.mul()"
      ],
      "execution_count": null,
      "outputs": [
        {
          "output_type": "execute_result",
          "data": {
            "text/plain": [
              "(0.5, 300, -100, 20000)"
            ]
          },
          "metadata": {
            "tags": []
          },
          "execution_count": 5
        }
      ]
    },
    {
      "cell_type": "markdown",
      "metadata": {
        "id": "1K7FjL7I1AuF"
      },
      "source": [
        "### 2. 객체에 있는 total 변수값 직접 수정 방지하기\n",
        "(10 점)\n",
        "\n",
        "아래는 add() 를 통해 숫자를 입력받으며 이를 누적하여 더해주는 기능을 하는 클래스 입니다.\n",
        "객체에 있는 total 값을 외부에서 바로 접근하여 수정하지 못하도록 코드를 수정해주세요."
      ]
    },
    {
      "cell_type": "markdown",
      "metadata": {
        "id": "WZmqeiCoadTg"
      },
      "source": [
        "## O"
      ]
    },
    {
      "cell_type": "code",
      "metadata": {
        "id": "zXqKUjXRzdgp"
      },
      "source": [
        "# 아래는 계산기(Calc) 클래스 입니다. 위 문제에서 요구하는대로 코드를 수정하여 완성해주세요.\n",
        "\n",
        "class Calc:\n",
        "  def __init__(self):\n",
        "    self.__total = 0\n",
        "\n",
        "  def getter(self):\n",
        "    return self.__total\n",
        "  \n",
        "  def setter(self, total):\n",
        "    self.__total = self.__total\n",
        "\n",
        "  def add(self, num):\n",
        "    self.__total += num\n",
        "    return self.__total\n",
        "  \n",
        "  total = property(getter, setter)"
      ],
      "execution_count": null,
      "outputs": []
    },
    {
      "cell_type": "code",
      "metadata": {
        "id": "Tq326ph_OcFH",
        "colab": {
          "base_uri": "https://localhost:8080/",
          "height": 35
        },
        "outputId": "aeb32942-347f-4a52-b1b3-b6623a3254ca"
      },
      "source": [
        "# 아래는 테스트코드 및 결과 예 입니다.\n",
        "# 아래와 같이 total 에 직접 값을 넣어도 total 숫자값이 변경되지 않도록 해주세요.\n",
        "\n",
        "calc = Calc()\n",
        "calc.total = 200\n",
        "calc.total"
      ],
      "execution_count": null,
      "outputs": [
        {
          "output_type": "execute_result",
          "data": {
            "text/plain": [
              "0"
            ]
          },
          "metadata": {
            "tags": []
          },
          "execution_count": 11
        }
      ]
    },
    {
      "cell_type": "markdown",
      "metadata": {
        "id": "Im8SIzPWV7eG"
      },
      "source": [
        "### 3. is a 형태로 동물(Animal) / 인간(Human) 클래스 만들기\n",
        "(10 점)\n",
        "\n",
        "아래 '클래스 작성 안내' 를 읽고 is a 형태의 클래스를 작성해주세요.\n",
        "\n",
        "#### 클래스 작성 안내\n",
        "- 동물(```Animal```) 클래스엔 걷는시간(```walk_time```), 잠자는시간(```sleep_time```) 변수를 추가해주세요.\n",
        "- 인간(```Human```) 은 동물(```Animal```) 로 부터 상속 받아주는 코드를 작성해주세요.\n",
        "- 인간(```Human```) 은 말하다(```speak```) 라는 고유의 기능(method) 을 작성해주세요. 이 기능은 걷는시간(```walk_time```), 잠자는시간(```sleep_time```) 를 출력하는 기능(```print()``` 사용) 을 구현해주세요."
      ]
    },
    {
      "cell_type": "markdown",
      "metadata": {
        "id": "56F81Cczadxm"
      },
      "source": [
        "## O"
      ]
    },
    {
      "cell_type": "code",
      "metadata": {
        "id": "THdgEye2V1j6"
      },
      "source": [
        "# 여기에 is a 형태로 작성해주세요.\n",
        "class Animal:\n",
        "  \"\"\"\n",
        "  Animal class who has a variable (walk_time, sleep_time)\n",
        "  \"\"\"\n",
        "  def __init__(self, walk_time, sleep_time):\n",
        "    self.walk_time = walk_time\n",
        "    self.sleep_time = sleep_time\n",
        "\n",
        "class Human(Animal):\n",
        "  def speak(self):\n",
        "    print(f'저는 {self.walk_time} 시간 걸었고, {self.sleep_time} 시간 잠을 잤습니다.')\n",
        "\n",
        "\n",
        "   "
      ],
      "execution_count": null,
      "outputs": []
    },
    {
      "cell_type": "code",
      "metadata": {
        "id": "AFR_wWEigXw9",
        "colab": {
          "base_uri": "https://localhost:8080/",
          "height": 35
        },
        "outputId": "d08f73ef-a453-4291-bcc5-94cae0383ab1"
      },
      "source": [
        "# 아래는 결과 예 입니다. print() 내용은 반드시 아래와 동일한 형태가 아니어도 됩니다!\n",
        "first = Human(10, 20)\n",
        "first.speak()"
      ],
      "execution_count": null,
      "outputs": [
        {
          "output_type": "stream",
          "text": [
            "저는 10 시간 걸었고, 20 시간 잠을 잤습니다.\n"
          ],
          "name": "stdout"
        }
      ]
    },
    {
      "cell_type": "markdown",
      "metadata": {
        "id": "-vrItLjQRIkF"
      },
      "source": [
        "### 4. has a \n",
        "(10 점)\n",
        "\n",
        "컴퓨터(Computer) 클래스의 인스턴스가 생성될때 CPU(Cpu), RAM(Ram) 클래스의 인스턴스도 생성되게 코드를 작성해주세요.\n",
        "\n",
        "#### 작성 안내\n",
        "- CPU(Cpu) 에는 속도(speed) 변수를 추가해주세요.\n",
        "- RAM(Ram) 에는 크기(size) 변수를 추가해주세요.\n",
        "- 컴퓨터(Computer) 클래스엔 com_info 라는 고유의 기능(method) 를 추가하시고 print() 를 통해 CPU, RAM 의 값을 출력해주세요."
      ]
    },
    {
      "cell_type": "markdown",
      "metadata": {
        "id": "SYrrQWRQaeOI"
      },
      "source": [
        "## O"
      ]
    },
    {
      "cell_type": "code",
      "metadata": {
        "id": "53o057y9MRL0"
      },
      "source": [
        "# 여기에 has a 형태로 작성해주세요.\n",
        "class Cpu:\n",
        "  def __init__(self, speed):\n",
        "    self.speed = speed\n",
        "class Ram:\n",
        "  def __init__(self, size):\n",
        "    self.size = size\n",
        "\n",
        "class Computer:\n",
        "  def __init__(self, cpu_obj, ram_obj):\n",
        "    self.cpu = cpu_obj\n",
        "    self.ram = ram_obj\n",
        "  \n",
        "  def com_info(self):\n",
        "    print(f'CPU 속도 : {self.cpu.speed} Ghz, RAM 크기 : {self.ram.size}GB')"
      ],
      "execution_count": null,
      "outputs": []
    },
    {
      "cell_type": "code",
      "metadata": {
        "id": "mEXtycgrj4tT",
        "colab": {
          "base_uri": "https://localhost:8080/",
          "height": 35
        },
        "outputId": "179d9766-5f81-43d3-a80d-808882baff82"
      },
      "source": [
        "# 출력 예\n",
        "speed = Cpu(\"3.1 Ghz\")\n",
        "size = Ram(\"32GB\")\n",
        "first_com = Computer(speed, size)\n",
        "first_com.com_info()"
      ],
      "execution_count": null,
      "outputs": [
        {
          "output_type": "stream",
          "text": [
            "CPU 속도 : 3.1 Ghz Ghz, RAM 크기 : 32GBGB\n"
          ],
          "name": "stdout"
        }
      ]
    },
    {
      "cell_type": "markdown",
      "metadata": {
        "id": "ecTqX3bD1zcf"
      },
      "source": [
        "### 5. 예외처리 \n",
        "(10점)\n",
        "\n",
        "menu() 에 음식(food) 를 입력하면 함수 내부에 foods 딕셔너리에 있는 key 를 찾아 음식 가격을 반환하는(return) 기능을 구현하였습니다.\n",
        "\n",
        "foods 에 없는 음식이면 \"메뉴에 없는 음식입니다.\" 라는 메시지가 출력되게 함수를 수정해주세요.\n",
        "\n",
        "#### 참고사항\n",
        "기본적으로 제공되는 예외(exception) 에 대하여 아래 웹사이트를 참고하셔도 좋습니다.\n",
        "\n",
        "https://docs.python.org/3.6/library/exceptions.html#exception-hierarchy"
      ]
    },
    {
      "cell_type": "markdown",
      "metadata": {
        "id": "r3EheIUjae5R"
      },
      "source": [
        "## O"
      ]
    },
    {
      "cell_type": "code",
      "metadata": {
        "id": "dmpj-UfGKFcL"
      },
      "source": [
        "# 아래 함수를 수정하여 완성해주세요.\n",
        "def menu(food):\n",
        "  foods = {\"짜장면\": 5000, \"탕수육\": 10000, \"짬뽕\": 6000, \"볶음밥\": 6000}\n",
        "  try:\n",
        "    cost = foods[food]\n",
        "    return cost\n",
        "  except:\n",
        "    if food not in foods:\n",
        "      print(\"메뉴에 없는 음식입니다.\")\n",
        "\n"
      ],
      "execution_count": null,
      "outputs": []
    },
    {
      "cell_type": "code",
      "metadata": {
        "id": "TTdALygEKP47",
        "colab": {
          "base_uri": "https://localhost:8080/",
          "height": 35
        },
        "outputId": "4f8e7d72-212d-4124-c972-dc002b8b144f"
      },
      "source": [
        "# 실행 결과 예\n",
        "menu(\"짜장면\")"
      ],
      "execution_count": null,
      "outputs": [
        {
          "output_type": "execute_result",
          "data": {
            "text/plain": [
              "5000"
            ]
          },
          "metadata": {
            "tags": []
          },
          "execution_count": 19
        }
      ]
    },
    {
      "cell_type": "code",
      "metadata": {
        "id": "TD3gt8skLjAN",
        "colab": {
          "base_uri": "https://localhost:8080/",
          "height": 35
        },
        "outputId": "f8d834e4-915c-4ef8-cf9c-183ad468dcba"
      },
      "source": [
        "menu(\"깐풍기\")"
      ],
      "execution_count": null,
      "outputs": [
        {
          "output_type": "stream",
          "text": [
            "메뉴에 없는 음식입니다.\n"
          ],
          "name": "stdout"
        }
      ]
    },
    {
      "cell_type": "markdown",
      "metadata": {
        "id": "hbFbiGB2P-JS"
      },
      "source": [
        "### 6. (이론) 상관계수\n",
        "(5 점)\n",
        "\n",
        "상관계수에 대해 간략하게 작성해주세요. "
      ]
    },
    {
      "cell_type": "markdown",
      "metadata": {
        "id": "b4z7QX9Safa3"
      },
      "source": [
        "## O"
      ]
    },
    {
      "cell_type": "markdown",
      "metadata": {
        "id": "Soho3hquwlwn"
      },
      "source": [
        "두 개의 다른 확률변수가 얼마나 관계가 있는지 수치화하여 알아보는 것\n",
        "\n",
        "* 공분산의 한계를 극복하기 위해 만들어짐 (공분산의 한계 : 표본 데이터 scale에 따라 수치가 달라짐)\n",
        "* ~1~1까지의 수를 가지며 0과 가까울수록 상관도가 적음\n",
        "* x의 분산과 y의 분산을 곱한 결과의 제곱근을 나눠주면 x나 y의 변화량이 클수록 0에 가까워짐"
      ]
    },
    {
      "cell_type": "markdown",
      "metadata": {
        "id": "Bnr7P6rFws7X"
      },
      "source": [
        "### 7. (이론) 분산\n",
        "(5 점)\n",
        "\n",
        "분산에 대해 간략하게 작성해주세요."
      ]
    },
    {
      "cell_type": "markdown",
      "metadata": {
        "id": "4df_jinyaf3l"
      },
      "source": [
        "## O"
      ]
    },
    {
      "cell_type": "markdown",
      "metadata": {
        "id": "p1Tx4KsKw0lr"
      },
      "source": [
        "평균에서 얼마나 멀리 떨어져 있는지에 대한 정도를 알아보기 위한 수치\n",
        "\n",
        "\n",
        "*   1개의 이산정도를 나타냄\n",
        "*   편차제곱의 평균\n",
        "\n"
      ]
    },
    {
      "cell_type": "markdown",
      "metadata": {
        "id": "AIeqWNegw1SQ"
      },
      "source": [
        "### 8. (이론) 공분산\n",
        "(5 점)\n",
        "\n",
        "공분산에 대해 간략하게 작성해주세요."
      ]
    },
    {
      "cell_type": "markdown",
      "metadata": {
        "id": "EU-ULQhRagGn"
      },
      "source": [
        "## O"
      ]
    },
    {
      "cell_type": "markdown",
      "metadata": {
        "id": "gMCosq_yw6SS"
      },
      "source": [
        "\n",
        "\n",
        "*   2개의 확률 변수의 상관정도를 나타냄\n",
        "*   평균 편차곱\n",
        "*  증가할 때, 같이 증가하는지, 감소하는지에 대한 방향성은 보여줄 수 있으나 강도를 나타내는 데 한계가 있다.\n",
        "* 표본 데이터의 크기에 따라서 값의 차이가 큰 단점이 있다. \n",
        "\n"
      ]
    },
    {
      "cell_type": "markdown",
      "metadata": {
        "id": "ISb6croxSKKc"
      },
      "source": [
        "### 9. NumPy 로 최대값, 최소값 가져오기\n",
        "(5 점)\n",
        "\n",
        "아래 NumPy array 에서 최대값과 최소값을 출력하는 코드를 작성해주세요."
      ]
    },
    {
      "cell_type": "markdown",
      "metadata": {
        "id": "A3sKVznragtG"
      },
      "source": [
        "## O"
      ]
    },
    {
      "cell_type": "code",
      "metadata": {
        "id": "-kppgK17SVIX"
      },
      "source": [
        "import numpy as np\n",
        "n = np.array([10, 2, 3, 7])"
      ],
      "execution_count": null,
      "outputs": []
    },
    {
      "cell_type": "code",
      "metadata": {
        "id": "4kQ6YnacSYrp",
        "colab": {
          "base_uri": "https://localhost:8080/",
          "height": 53
        },
        "outputId": "3c76dcbf-b451-48b3-cde5-8080854daa9a"
      },
      "source": [
        "# 답\n",
        "print(f'최대값 : {np.max(n)}')\n",
        "print(f'최소값 : {np.min(n)}')"
      ],
      "execution_count": null,
      "outputs": [
        {
          "output_type": "stream",
          "text": [
            "최대값 : 10\n",
            "최소값 : 2\n"
          ],
          "name": "stdout"
        }
      ]
    },
    {
      "cell_type": "code",
      "metadata": {
        "id": "9YfhdO9CSavK"
      },
      "source": [
        "# 출력 예"
      ],
      "execution_count": null,
      "outputs": []
    },
    {
      "cell_type": "markdown",
      "metadata": {
        "id": "CYAPg_WcPR6m"
      },
      "source": [
        "### 10. NumPy 로 로또번호 생성하기\n",
        "(10 점)\n",
        "\n",
        "NumPy 패키지에 있는 랜덤 기능을 활용하여 로또번호(1~45 중 랜덤) 를 6게임을 생성하는 코드를 작성해주세요. 이 문제에서 랜덤 숫자가 중복 생성되는 문제는 무시하셔도 됩니다."
      ]
    },
    {
      "cell_type": "markdown",
      "metadata": {
        "id": "c2pkVTxLahJM"
      },
      "source": [
        "## O"
      ]
    },
    {
      "cell_type": "code",
      "metadata": {
        "id": "yWfFPbgBQ890",
        "colab": {
          "base_uri": "https://localhost:8080/",
          "height": 107
        },
        "outputId": "c18d154f-2d52-46d4-97c5-ba4345603c52"
      },
      "source": [
        "# 여기에 NumPy 코드를 작성해주세요.\n",
        "import numpy as np\n",
        "np.random.seed(3)\n",
        "np.random.randint(1,46,(5,6))"
      ],
      "execution_count": null,
      "outputs": [
        {
          "output_type": "execute_result",
          "data": {
            "text/plain": [
              "array([[43, 25,  4,  9,  1, 22],\n",
              "       [20, 11, 44, 42, 11, 22],\n",
              "       [39, 33, 21, 45, 30, 40],\n",
              "       [15, 27, 18, 27, 23,  3],\n",
              "       [ 3,  2, 27,  6, 41, 34]])"
            ]
          },
          "metadata": {
            "tags": []
          },
          "execution_count": 27
        }
      ]
    },
    {
      "cell_type": "code",
      "metadata": {
        "id": "zxWCXbJFQ_vP",
        "colab": {
          "base_uri": "https://localhost:8080/",
          "height": 102
        },
        "outputId": "91798d55-6137-4991-c48e-6aa612b076d5"
      },
      "source": [
        "# 출력 예"
      ],
      "execution_count": null,
      "outputs": [
        {
          "output_type": "execute_result",
          "data": {
            "text/plain": [
              "array([[ 1,  7, 17, 24, 11, 15],\n",
              "       [23, 28, 32, 26, 19, 38],\n",
              "       [29, 33, 33, 45, 21, 42],\n",
              "       [22, 39, 27, 33, 28, 35],\n",
              "       [33, 44,  6, 43, 44, 22]])"
            ]
          },
          "metadata": {
            "tags": []
          },
          "execution_count": 18
        }
      ]
    },
    {
      "cell_type": "markdown",
      "metadata": {
        "id": "DKjpb084iUXy"
      },
      "source": [
        "### 11. DataFrame 특정 행 값 출력하기\n",
        "(10 점)\n",
        "\n",
        "아래 DataFrame 에서 3번째 행 을 출력하는 코드를 작성해주세요."
      ]
    },
    {
      "cell_type": "markdown",
      "metadata": {
        "id": "6_6FbxPHahm6"
      },
      "source": [
        "## O"
      ]
    },
    {
      "cell_type": "code",
      "metadata": {
        "id": "eEuz2V6yij6o",
        "colab": {
          "base_uri": "https://localhost:8080/",
          "height": 173
        },
        "outputId": "48f399d1-fa1e-4b26-89c7-8e894f4053f2"
      },
      "source": [
        "import pandas as pd\n",
        "\n",
        "df = pd.DataFrame({\n",
        "    'Name': ['Huh', 'Jo', 'Park', 'Maeng'],\n",
        "    'Date': [pd.Timestamp('20130102'), pd.Timestamp('20170612'), pd.Timestamp('20180311'), pd.Timestamp('20191022')],\n",
        "    'Email': ['huh@gmail.com', 'jojo@daum.net', 'park@naver.com', 'maeng@hotmail.com'],\n",
        "    'Score': [70, 99, 66, 43]\n",
        "                                                                   \n",
        "})\n",
        "df"
      ],
      "execution_count": null,
      "outputs": [
        {
          "output_type": "execute_result",
          "data": {
            "text/html": [
              "<div>\n",
              "<style scoped>\n",
              "    .dataframe tbody tr th:only-of-type {\n",
              "        vertical-align: middle;\n",
              "    }\n",
              "\n",
              "    .dataframe tbody tr th {\n",
              "        vertical-align: top;\n",
              "    }\n",
              "\n",
              "    .dataframe thead th {\n",
              "        text-align: right;\n",
              "    }\n",
              "</style>\n",
              "<table border=\"1\" class=\"dataframe\">\n",
              "  <thead>\n",
              "    <tr style=\"text-align: right;\">\n",
              "      <th></th>\n",
              "      <th>Name</th>\n",
              "      <th>Date</th>\n",
              "      <th>Email</th>\n",
              "      <th>Score</th>\n",
              "    </tr>\n",
              "  </thead>\n",
              "  <tbody>\n",
              "    <tr>\n",
              "      <th>0</th>\n",
              "      <td>Huh</td>\n",
              "      <td>2013-01-02</td>\n",
              "      <td>huh@gmail.com</td>\n",
              "      <td>70</td>\n",
              "    </tr>\n",
              "    <tr>\n",
              "      <th>1</th>\n",
              "      <td>Jo</td>\n",
              "      <td>2017-06-12</td>\n",
              "      <td>jojo@daum.net</td>\n",
              "      <td>99</td>\n",
              "    </tr>\n",
              "    <tr>\n",
              "      <th>2</th>\n",
              "      <td>Park</td>\n",
              "      <td>2018-03-11</td>\n",
              "      <td>park@naver.com</td>\n",
              "      <td>66</td>\n",
              "    </tr>\n",
              "    <tr>\n",
              "      <th>3</th>\n",
              "      <td>Maeng</td>\n",
              "      <td>2019-10-22</td>\n",
              "      <td>maeng@hotmail.com</td>\n",
              "      <td>43</td>\n",
              "    </tr>\n",
              "  </tbody>\n",
              "</table>\n",
              "</div>"
            ],
            "text/plain": [
              "    Name       Date              Email  Score\n",
              "0    Huh 2013-01-02      huh@gmail.com     70\n",
              "1     Jo 2017-06-12      jojo@daum.net     99\n",
              "2   Park 2018-03-11     park@naver.com     66\n",
              "3  Maeng 2019-10-22  maeng@hotmail.com     43"
            ]
          },
          "metadata": {
            "tags": []
          },
          "execution_count": 2
        }
      ]
    },
    {
      "cell_type": "code",
      "metadata": {
        "id": "CvCyokQzjVj2",
        "colab": {
          "base_uri": "https://localhost:8080/",
          "height": 107
        },
        "outputId": "4125ca76-3346-474f-a42a-b387ad623735"
      },
      "source": [
        "# 여기에 코드를 작성해주세요.\n",
        "\n",
        "df.loc[2]"
      ],
      "execution_count": null,
      "outputs": [
        {
          "output_type": "execute_result",
          "data": {
            "text/plain": [
              "Name                    Park\n",
              "Date     2018-03-11 00:00:00\n",
              "Email         park@naver.com\n",
              "Score                     66\n",
              "Name: 2, dtype: object"
            ]
          },
          "metadata": {
            "tags": []
          },
          "execution_count": 3
        }
      ]
    },
    {
      "cell_type": "code",
      "metadata": {
        "id": "JSgeAsQMiU6H",
        "colab": {
          "base_uri": "https://localhost:8080/",
          "height": 102
        },
        "outputId": "55670fb6-3932-487a-b130-d15141dd00bf"
      },
      "source": [
        "# 출력 예"
      ],
      "execution_count": null,
      "outputs": [
        {
          "output_type": "execute_result",
          "data": {
            "text/plain": [
              "Name                    Park\n",
              "Date     2018-03-11 00:00:00\n",
              "Email         park@naver.com\n",
              "Score                     66\n",
              "Name: 2, dtype: object"
            ]
          },
          "metadata": {
            "tags": []
          },
          "execution_count": 26
        }
      ]
    },
    {
      "cell_type": "markdown",
      "metadata": {
        "id": "A_GP2MlhPRqo"
      },
      "source": [
        "### 12. 누적 Quiz 점수 평균 내기\n",
        "(10 점)\n",
        "\n",
        "아래 \"A\" 와 \"B\" 학생의 누적 점수 입니다. Name 컬럼을 기준으로 두 명의 점수를 각각 평균내는 코드를 작성해주세요.\n",
        "\n",
        "(힌트 : groupby)"
      ]
    },
    {
      "cell_type": "markdown",
      "metadata": {
        "id": "RHQ0poY7aiR3"
      },
      "source": [
        "## O"
      ]
    },
    {
      "cell_type": "code",
      "metadata": {
        "id": "9Z2_UVzyPV6k",
        "colab": {
          "base_uri": "https://localhost:8080/",
          "height": 266
        },
        "outputId": "77e18bf4-ca81-47be-eb10-f5eb275d7828"
      },
      "source": [
        "import pandas as pd\n",
        "score_dict = {\n",
        "  \"Name\": [\"A\", \"B\", \"B\", \"A\", \"A\", \"A\", \"B\"],\n",
        "  \"Score\": [30, 60, 70, 40, 80, 20, 75]\n",
        "}\n",
        "df_score = pd.DataFrame(score_dict)\n",
        "df_score"
      ],
      "execution_count": null,
      "outputs": [
        {
          "output_type": "execute_result",
          "data": {
            "text/html": [
              "<div>\n",
              "<style scoped>\n",
              "    .dataframe tbody tr th:only-of-type {\n",
              "        vertical-align: middle;\n",
              "    }\n",
              "\n",
              "    .dataframe tbody tr th {\n",
              "        vertical-align: top;\n",
              "    }\n",
              "\n",
              "    .dataframe thead th {\n",
              "        text-align: right;\n",
              "    }\n",
              "</style>\n",
              "<table border=\"1\" class=\"dataframe\">\n",
              "  <thead>\n",
              "    <tr style=\"text-align: right;\">\n",
              "      <th></th>\n",
              "      <th>Name</th>\n",
              "      <th>Score</th>\n",
              "    </tr>\n",
              "  </thead>\n",
              "  <tbody>\n",
              "    <tr>\n",
              "      <th>0</th>\n",
              "      <td>A</td>\n",
              "      <td>30</td>\n",
              "    </tr>\n",
              "    <tr>\n",
              "      <th>1</th>\n",
              "      <td>B</td>\n",
              "      <td>60</td>\n",
              "    </tr>\n",
              "    <tr>\n",
              "      <th>2</th>\n",
              "      <td>B</td>\n",
              "      <td>70</td>\n",
              "    </tr>\n",
              "    <tr>\n",
              "      <th>3</th>\n",
              "      <td>A</td>\n",
              "      <td>40</td>\n",
              "    </tr>\n",
              "    <tr>\n",
              "      <th>4</th>\n",
              "      <td>A</td>\n",
              "      <td>80</td>\n",
              "    </tr>\n",
              "    <tr>\n",
              "      <th>5</th>\n",
              "      <td>A</td>\n",
              "      <td>20</td>\n",
              "    </tr>\n",
              "    <tr>\n",
              "      <th>6</th>\n",
              "      <td>B</td>\n",
              "      <td>75</td>\n",
              "    </tr>\n",
              "  </tbody>\n",
              "</table>\n",
              "</div>"
            ],
            "text/plain": [
              "  Name  Score\n",
              "0    A     30\n",
              "1    B     60\n",
              "2    B     70\n",
              "3    A     40\n",
              "4    A     80\n",
              "5    A     20\n",
              "6    B     75"
            ]
          },
          "metadata": {
            "tags": []
          },
          "execution_count": 35
        }
      ]
    },
    {
      "cell_type": "code",
      "metadata": {
        "id": "Nr0oqhQbiFDG",
        "colab": {
          "base_uri": "https://localhost:8080/",
          "height": 111
        },
        "outputId": "473ec5af-41ab-4523-9e23-56b0abe2ac5a"
      },
      "source": [
        "# 여기에 코드를 작성해주세요.\n",
        "df_score_mean = df_score.groupby('Name').agg('mean').reset_index()\n",
        "df_score_mean"
      ],
      "execution_count": null,
      "outputs": [
        {
          "output_type": "execute_result",
          "data": {
            "text/html": [
              "<div>\n",
              "<style scoped>\n",
              "    .dataframe tbody tr th:only-of-type {\n",
              "        vertical-align: middle;\n",
              "    }\n",
              "\n",
              "    .dataframe tbody tr th {\n",
              "        vertical-align: top;\n",
              "    }\n",
              "\n",
              "    .dataframe thead th {\n",
              "        text-align: right;\n",
              "    }\n",
              "</style>\n",
              "<table border=\"1\" class=\"dataframe\">\n",
              "  <thead>\n",
              "    <tr style=\"text-align: right;\">\n",
              "      <th></th>\n",
              "      <th>Name</th>\n",
              "      <th>Score</th>\n",
              "    </tr>\n",
              "  </thead>\n",
              "  <tbody>\n",
              "    <tr>\n",
              "      <th>0</th>\n",
              "      <td>A</td>\n",
              "      <td>42.500000</td>\n",
              "    </tr>\n",
              "    <tr>\n",
              "      <th>1</th>\n",
              "      <td>B</td>\n",
              "      <td>68.333333</td>\n",
              "    </tr>\n",
              "  </tbody>\n",
              "</table>\n",
              "</div>"
            ],
            "text/plain": [
              "  Name      Score\n",
              "0    A  42.500000\n",
              "1    B  68.333333"
            ]
          },
          "metadata": {
            "tags": []
          },
          "execution_count": 36
        }
      ]
    },
    {
      "cell_type": "code",
      "metadata": {
        "id": "OR3BnYFwhkFp",
        "colab": {
          "base_uri": "https://localhost:8080/",
          "height": 111
        },
        "outputId": "c92c9efa-8c7f-4604-f757-748d6b3ec74a"
      },
      "source": [
        "# 결과 예\n",
        "df_score_mean"
      ],
      "execution_count": null,
      "outputs": [
        {
          "output_type": "execute_result",
          "data": {
            "text/html": [
              "<div>\n",
              "<style scoped>\n",
              "    .dataframe tbody tr th:only-of-type {\n",
              "        vertical-align: middle;\n",
              "    }\n",
              "\n",
              "    .dataframe tbody tr th {\n",
              "        vertical-align: top;\n",
              "    }\n",
              "\n",
              "    .dataframe thead th {\n",
              "        text-align: right;\n",
              "    }\n",
              "</style>\n",
              "<table border=\"1\" class=\"dataframe\">\n",
              "  <thead>\n",
              "    <tr style=\"text-align: right;\">\n",
              "      <th></th>\n",
              "      <th>Name</th>\n",
              "      <th>Score</th>\n",
              "    </tr>\n",
              "  </thead>\n",
              "  <tbody>\n",
              "    <tr>\n",
              "      <th>0</th>\n",
              "      <td>A</td>\n",
              "      <td>42.500000</td>\n",
              "    </tr>\n",
              "    <tr>\n",
              "      <th>1</th>\n",
              "      <td>B</td>\n",
              "      <td>68.333333</td>\n",
              "    </tr>\n",
              "  </tbody>\n",
              "</table>\n",
              "</div>"
            ],
            "text/plain": [
              "  Name      Score\n",
              "0    A  42.500000\n",
              "1    B  68.333333"
            ]
          },
          "metadata": {
            "tags": []
          },
          "execution_count": 37
        }
      ]
    }
  ]
}